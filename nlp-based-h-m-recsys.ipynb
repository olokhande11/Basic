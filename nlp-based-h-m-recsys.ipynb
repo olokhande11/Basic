{
 "cells": [
  {
   "cell_type": "markdown",
   "metadata": {},
   "source": [
    "# Importing Libraries"
   ]
  },
  {
   "cell_type": "code",
   "execution_count": 1,
   "metadata": {
    "execution": {
     "iopub.execute_input": "2022-07-31T11:07:20.755183Z",
     "iopub.status.busy": "2022-07-31T11:07:20.754705Z",
     "iopub.status.idle": "2022-07-31T11:07:22.525413Z",
     "shell.execute_reply": "2022-07-31T11:07:22.524304Z",
     "shell.execute_reply.started": "2022-07-31T11:07:20.755039Z"
    }
   },
   "outputs": [],
   "source": [
    "import seaborn as sns\n",
    "import matplotlib.pyplot as plt\n",
    "import pandas as pd\n",
    "import numpy as np\n",
    "from warnings import filterwarnings\n",
    "import nltk\n",
    "from nltk.corpus import stopwords\n",
    "import re\n",
    "import string\n",
    "from nltk.stem import WordNetLemmatizer\n",
    "from nltk import word_tokenize\n",
    "from nltk.corpus import stopwords\n",
    "from sklearn.feature_extraction.text import TfidfVectorizer \n",
    "from sklearn.metrics.pairwise import cosine_similarity\n",
    "filterwarnings('ignore')"
   ]
  },
  {
   "cell_type": "markdown",
   "metadata": {},
   "source": [
    "# Importing Datasets"
   ]
  },
  {
   "cell_type": "code",
   "execution_count": 2,
   "metadata": {
    "execution": {
     "iopub.execute_input": "2022-07-31T11:07:22.528478Z",
     "iopub.status.busy": "2022-07-31T11:07:22.527851Z",
     "iopub.status.idle": "2022-07-31T11:08:31.541010Z",
     "shell.execute_reply": "2022-07-31T11:08:31.539879Z",
     "shell.execute_reply.started": "2022-07-31T11:07:22.528412Z"
    }
   },
   "outputs": [],
   "source": [
    "articles = pd.read_csv(\"../input/h-and-m-personalized-fashion-recommendations/articles.csv\")\n",
    "customers = pd.read_csv(\"../input/h-and-m-personalized-fashion-recommendations/customers.csv\")\n",
    "transactions = pd.read_csv(\"../input/h-and-m-personalized-fashion-recommendations/transactions_train.csv\")"
   ]
  },
  {
   "cell_type": "markdown",
   "metadata": {},
   "source": [
    "## Articles Dataset"
   ]
  },
  {
   "cell_type": "markdown",
   "metadata": {},
   "source": [
    "This dataset contains products and related information about them. Rows with null values were removed from the data set."
   ]
  },
  {
   "cell_type": "code",
   "execution_count": 3,
   "metadata": {
    "execution": {
     "iopub.execute_input": "2022-07-31T11:08:31.543106Z",
     "iopub.status.busy": "2022-07-31T11:08:31.542773Z",
     "iopub.status.idle": "2022-07-31T11:08:31.720074Z",
     "shell.execute_reply": "2022-07-31T11:08:31.718887Z",
     "shell.execute_reply.started": "2022-07-31T11:08:31.543059Z"
    }
   },
   "outputs": [],
   "source": [
    "articles = articles.dropna()"
   ]
  },
  {
   "cell_type": "code",
   "execution_count": 4,
   "metadata": {
    "execution": {
     "iopub.execute_input": "2022-07-31T11:08:31.724537Z",
     "iopub.status.busy": "2022-07-31T11:08:31.724139Z",
     "iopub.status.idle": "2022-07-31T11:08:31.734855Z",
     "shell.execute_reply": "2022-07-31T11:08:31.733691Z",
     "shell.execute_reply.started": "2022-07-31T11:08:31.724487Z"
    }
   },
   "outputs": [],
   "source": [
    "articles.columns"
   ]
  },
  {
   "cell_type": "code",
   "execution_count": 5,
   "metadata": {
    "execution": {
     "iopub.execute_input": "2022-07-31T11:08:31.737584Z",
     "iopub.status.busy": "2022-07-31T11:08:31.736838Z",
     "iopub.status.idle": "2022-07-31T11:08:31.751635Z",
     "shell.execute_reply": "2022-07-31T11:08:31.750512Z",
     "shell.execute_reply.started": "2022-07-31T11:08:31.737535Z"
    }
   },
   "outputs": [],
   "source": [
    "articles.shape,customers.shape,transactions.shape"
   ]
  },
  {
   "cell_type": "markdown",
   "metadata": {},
   "source": [
    "Only NLP-related variables were selected from the dataset and all those variables containing text were combined in one column with the name \"text\". Since various numeric values will not be used, they were not selected."
   ]
  },
  {
   "cell_type": "code",
   "execution_count": 6,
   "metadata": {
    "execution": {
     "iopub.execute_input": "2022-07-31T11:08:31.755691Z",
     "iopub.status.busy": "2022-07-31T11:08:31.755433Z",
     "iopub.status.idle": "2022-07-31T11:08:32.283353Z",
     "shell.execute_reply": "2022-07-31T11:08:32.282210Z",
     "shell.execute_reply.started": "2022-07-31T11:08:31.755659Z"
    },
    "tags": []
   },
   "outputs": [],
   "source": [
    "articles[\"text\"] = articles[\"prod_name\"].map(str) + \" \" + articles[\"product_type_name\"] +\" \"+ articles[\"product_group_name\"]+ \" \"+ articles['graphical_appearance_name']+\" \"+ articles['colour_group_name'] +\" \"+ articles['perceived_colour_value_name']+ \" \" + articles[\"perceived_colour_master_name\"] +\" \"+ articles[\"department_name\"]+ \" \"+ articles['index_name']+\" \"+articles['index_group_name'] +\" \"+articles['section_name']+ \" \"+ articles['garment_group_name']+\" \"+articles['detail_desc']\n",
    "articles.head(2)"
   ]
  },
  {
   "cell_type": "markdown",
   "metadata": {},
   "source": [
    "Finally, a dataframe created only includes 'article_id', 'product_code', 'text' columns."
   ]
  },
  {
   "cell_type": "code",
   "execution_count": 7,
   "metadata": {
    "execution": {
     "iopub.execute_input": "2022-07-31T11:08:32.285664Z",
     "iopub.status.busy": "2022-07-31T11:08:32.285042Z",
     "iopub.status.idle": "2022-07-31T11:08:32.319153Z",
     "shell.execute_reply": "2022-07-31T11:08:32.318032Z",
     "shell.execute_reply.started": "2022-07-31T11:08:32.285611Z"
    }
   },
   "outputs": [],
   "source": [
    "df_all = articles[['article_id', 'product_code', 'text']]\n",
    "#pd.set_option(\"display.max_colwidth\", -1)"
   ]
  },
  {
   "cell_type": "markdown",
   "metadata": {},
   "source": [
    "The text variable needs to be cleared for NLP implementation. For this reason, the necessary files have been downloaded."
   ]
  },
  {
   "cell_type": "code",
   "execution_count": 8,
   "metadata": {
    "execution": {
     "iopub.execute_input": "2022-07-31T11:08:32.321653Z",
     "iopub.status.busy": "2022-07-31T11:08:32.321011Z",
     "iopub.status.idle": "2022-07-31T11:08:32.616600Z",
     "shell.execute_reply": "2022-07-31T11:08:32.615424Z",
     "shell.execute_reply.started": "2022-07-31T11:08:32.321603Z"
    }
   },
   "outputs": [],
   "source": [
    "nltk.download('punkt')\n",
    "nltk.download('stopwords')\n",
    "nltk.download('wordnet')\n",
    "nltk.download('averaged_perceptron_tagger')"
   ]
  },
  {
   "cell_type": "markdown",
   "metadata": {},
   "source": [
    "Text cleaning function defined and applied on text variable"
   ]
  },
  {
   "cell_type": "code",
   "execution_count": 9,
   "metadata": {
    "execution": {
     "iopub.execute_input": "2022-07-31T11:08:32.620484Z",
     "iopub.status.busy": "2022-07-31T11:08:32.619638Z",
     "iopub.status.idle": "2022-07-31T11:08:32.633025Z",
     "shell.execute_reply": "2022-07-31T11:08:32.631888Z",
     "shell.execute_reply.started": "2022-07-31T11:08:32.620385Z"
    }
   },
   "outputs": [],
   "source": [
    "stop = stopwords.words('english')\n",
    "stop_words_ = set(stopwords.words('english'))\n",
    "wn = WordNetLemmatizer()\n",
    "\n",
    "def black_txt(token):\n",
    "    return  token not in stop_words_ and token not in list(string.punctuation)  and len(token)>2   \n",
    "  \n",
    "def clean_txt(text):\n",
    "  clean_text = []\n",
    "  clean_text2 = []\n",
    "  text = re.sub(\"'\", \"\",text)\n",
    "  text=re.sub(\"(\\\\d|\\\\W)+\",\" \",text) \n",
    "  text = text.replace(\"nbsp\", \"\")\n",
    "  clean_text = [ wn.lemmatize(word, pos=\"v\") for word in word_tokenize(text.lower()) if black_txt(word)]\n",
    "  clean_text2 = [word for word in clean_text if black_txt(word)]\n",
    "  return \" \".join(clean_text2)"
   ]
  },
  {
   "cell_type": "code",
   "execution_count": 10,
   "metadata": {
    "execution": {
     "iopub.execute_input": "2022-07-31T11:08:32.639988Z",
     "iopub.status.busy": "2022-07-31T11:08:32.639665Z",
     "iopub.status.idle": "2022-07-31T11:08:32.663122Z",
     "shell.execute_reply": "2022-07-31T11:08:32.662118Z",
     "shell.execute_reply.started": "2022-07-31T11:08:32.639957Z"
    }
   },
   "outputs": [],
   "source": [
    "text ='Strap top Vest top Garment ''Upper11 body Solid Black Dark Black Jersey Basic Ladieswear Ladieswear Womens Everyday Basics Jersey Basic Jersey top with narrow shoulder straps.'\n",
    "print('step0',text)\n",
    "text = re.sub(\"'\", \"\",text)\n",
    "print('step1',text)\n",
    "text=re.sub(\"(\\\\d|\\\\W)+\",\" \",text)\n",
    "print('step2',text)\n",
    "text = text.replace(\"nbsp\", \"\")\n",
    "print('step3',text)\n",
    "\n",
    "l1= word_tokenize(text)\n",
    "\n",
    "print('step4',l1)\n",
    "\n"
   ]
  },
  {
   "cell_type": "code",
   "execution_count": 11,
   "metadata": {
    "execution": {
     "iopub.execute_input": "2022-07-31T11:08:32.665353Z",
     "iopub.status.busy": "2022-07-31T11:08:32.664951Z",
     "iopub.status.idle": "2022-07-31T11:10:06.834436Z",
     "shell.execute_reply": "2022-07-31T11:10:06.833325Z",
     "shell.execute_reply.started": "2022-07-31T11:08:32.665306Z"
    }
   },
   "outputs": [],
   "source": [
    "df_all['text'] = df_all['text'].apply(clean_txt)"
   ]
  },
  {
   "cell_type": "markdown",
   "metadata": {},
   "source": [
    "Initializing tfidf vectorizer for articles, fitting and transforming the vector"
   ]
  },
  {
   "cell_type": "code",
   "execution_count": 12,
   "metadata": {
    "execution": {
     "iopub.execute_input": "2022-07-31T11:10:06.837721Z",
     "iopub.status.busy": "2022-07-31T11:10:06.836144Z",
     "iopub.status.idle": "2022-07-31T11:10:20.463164Z",
     "shell.execute_reply": "2022-07-31T11:10:20.461999Z",
     "shell.execute_reply.started": "2022-07-31T11:10:06.837670Z"
    }
   },
   "outputs": [],
   "source": [
    "tfidf_vectorizer = TfidfVectorizer()\n",
    "tfidf_article = tfidf_vectorizer.fit_transform((df_all['text'])) \n",
    "tfidf_article.toarray()"
   ]
  },
  {
   "cell_type": "markdown",
   "metadata": {},
   "source": [
    "## Transactions Dataset"
   ]
  },
  {
   "cell_type": "code",
   "execution_count": 13,
   "metadata": {
    "execution": {
     "iopub.execute_input": "2022-07-31T11:10:20.466032Z",
     "iopub.status.busy": "2022-07-31T11:10:20.464962Z",
     "iopub.status.idle": "2022-07-31T11:10:31.061534Z",
     "shell.execute_reply": "2022-07-31T11:10:31.060117Z",
     "shell.execute_reply.started": "2022-07-31T11:10:20.465974Z"
    }
   },
   "outputs": [],
   "source": [
    "transactions = transactions.dropna()"
   ]
  },
  {
   "cell_type": "markdown",
   "metadata": {
    "execution": {
     "iopub.execute_input": "2022-07-24T16:13:33.326598Z",
     "iopub.status.busy": "2022-07-24T16:13:33.326341Z",
     "iopub.status.idle": "2022-07-24T16:14:04.725453Z",
     "shell.execute_reply": "2022-07-24T16:14:04.724354Z",
     "shell.execute_reply.started": "2022-07-24T16:13:33.326569Z"
    }
   },
   "source": [
    "transactions['InvoiceDate'] = pd.to_datetime(transactions['t_dat'],format='%Y-%m-%d')\n",
    "transactions=transactions[[\"InvoiceDate\", \"customer_id\", \"article_id\", \"price\",\"sales_channel_id\"]].drop_duplicates()"
   ]
  },
  {
   "cell_type": "markdown",
   "metadata": {},
   "source": []
  },
  {
   "cell_type": "code",
   "execution_count": 14,
   "metadata": {
    "execution": {
     "iopub.execute_input": "2022-07-31T11:10:31.064135Z",
     "iopub.status.busy": "2022-07-31T11:10:31.063681Z",
     "iopub.status.idle": "2022-07-31T11:10:31.071121Z",
     "shell.execute_reply": "2022-07-31T11:10:31.070074Z",
     "shell.execute_reply.started": "2022-07-31T11:10:31.064074Z"
    }
   },
   "outputs": [],
   "source": [
    "transactions = transactions[:5000000]"
   ]
  },
  {
   "cell_type": "code",
   "execution_count": 15,
   "metadata": {
    "execution": {
     "iopub.execute_input": "2022-07-31T11:10:31.073620Z",
     "iopub.status.busy": "2022-07-31T11:10:31.072935Z",
     "iopub.status.idle": "2022-07-31T11:10:31.090159Z",
     "shell.execute_reply": "2022-07-31T11:10:31.088898Z",
     "shell.execute_reply.started": "2022-07-31T11:10:31.073571Z"
    }
   },
   "outputs": [],
   "source": [
    "transactions.shape"
   ]
  },
  {
   "cell_type": "markdown",
   "metadata": {},
   "source": [
    "Sorting the dataset by customer id to see all of a customer's purchases"
   ]
  },
  {
   "cell_type": "code",
   "execution_count": 16,
   "metadata": {
    "execution": {
     "iopub.execute_input": "2022-07-31T11:10:31.092861Z",
     "iopub.status.busy": "2022-07-31T11:10:31.092319Z",
     "iopub.status.idle": "2022-07-31T11:10:40.919268Z",
     "shell.execute_reply": "2022-07-31T11:10:40.918206Z",
     "shell.execute_reply.started": "2022-07-31T11:10:31.092808Z"
    }
   },
   "outputs": [],
   "source": [
    "transactions =  transactions.sort_values(by='customer_id')\n",
    "transactions.head()"
   ]
  },
  {
   "cell_type": "code",
   "execution_count": 17,
   "metadata": {
    "execution": {
     "iopub.execute_input": "2022-07-31T11:10:40.921684Z",
     "iopub.status.busy": "2022-07-31T11:10:40.921010Z",
     "iopub.status.idle": "2022-07-31T11:10:44.160733Z",
     "shell.execute_reply": "2022-07-31T11:10:44.159599Z",
     "shell.execute_reply.started": "2022-07-31T11:10:40.921645Z"
    }
   },
   "outputs": [],
   "source": [
    "merged_df = df_all.merge(transactions, how = 'inner', on = ['article_id'])"
   ]
  },
  {
   "cell_type": "markdown",
   "metadata": {},
   "source": [
    "merged_df = merged_df[:10000000]"
   ]
  },
  {
   "cell_type": "markdown",
   "metadata": {},
   "source": [
    "The text information of all the products purchased by the user are gathered in the same 'text' variable."
   ]
  },
  {
   "cell_type": "code",
   "execution_count": 18,
   "metadata": {
    "execution": {
     "iopub.execute_input": "2022-07-31T11:10:44.163172Z",
     "iopub.status.busy": "2022-07-31T11:10:44.162792Z",
     "iopub.status.idle": "2022-07-31T11:11:06.208210Z",
     "shell.execute_reply": "2022-07-31T11:11:06.207136Z",
     "shell.execute_reply.started": "2022-07-31T11:10:44.163126Z"
    }
   },
   "outputs": [],
   "source": [
    "merged_df2 = merged_df.groupby('customer_id', sort=False)['text'].apply(' '.join).reset_index()\n",
    "merged_df2.head(5)"
   ]
  },
  {
   "cell_type": "markdown",
   "metadata": {
    "tags": []
   },
   "source": [
    "# **Recommendation**"
   ]
  },
  {
   "cell_type": "markdown",
   "metadata": {},
   "source": [
    "A random customer_id was chosen to make a reccommendation"
   ]
  },
  {
   "cell_type": "code",
   "execution_count": 19,
   "metadata": {
    "execution": {
     "iopub.execute_input": "2022-07-31T11:11:06.211730Z",
     "iopub.status.busy": "2022-07-31T11:11:06.210649Z",
     "iopub.status.idle": "2022-07-31T11:11:06.531191Z",
     "shell.execute_reply": "2022-07-31T11:11:06.530137Z",
     "shell.execute_reply.started": "2022-07-31T11:11:06.211679Z"
    }
   },
   "outputs": [],
   "source": [
    "u = \"000058a12d5b43e67d225668fa1f8d618c13dc232df0cad8ffe7ad4a1091e318\" #customer_id\n",
    "index = np.where(merged_df2['customer_id'] == u)[0][0]\n",
    "cust_q = merged_df2.iloc[[index]]\n",
    "cust_q"
   ]
  },
  {
   "cell_type": "markdown",
   "metadata": {
    "tags": []
   },
   "source": [
    "### Products user bought before"
   ]
  },
  {
   "cell_type": "markdown",
   "metadata": {},
   "source": [
    "## Define a Reccommendation Function "
   ]
  },
  {
   "cell_type": "code",
   "execution_count": 20,
   "metadata": {
    "execution": {
     "iopub.execute_input": "2022-07-31T11:11:06.533904Z",
     "iopub.status.busy": "2022-07-31T11:11:06.533236Z",
     "iopub.status.idle": "2022-07-31T11:11:06.548280Z",
     "shell.execute_reply": "2022-07-31T11:11:06.547241Z",
     "shell.execute_reply.started": "2022-07-31T11:11:06.533837Z"
    }
   },
   "outputs": [],
   "source": [
    "recommendation = pd.DataFrame(columns = ['customer_id', 'article_id',  'product_code', 'detail_desc', 'score'])\n",
    "recommendation"
   ]
  },
  {
   "cell_type": "markdown",
   "metadata": {},
   "source": [
    "Recommendation function includes customer ID, article ID, product code, description and similarity score."
   ]
  },
  {
   "cell_type": "code",
   "execution_count": 21,
   "metadata": {
    "execution": {
     "iopub.execute_input": "2022-07-31T11:11:06.550949Z",
     "iopub.status.busy": "2022-07-31T11:11:06.549773Z",
     "iopub.status.idle": "2022-07-31T11:11:06.561537Z",
     "shell.execute_reply": "2022-07-31T11:11:06.560386Z",
     "shell.execute_reply.started": "2022-07-31T11:11:06.550886Z"
    }
   },
   "outputs": [],
   "source": [
    "def recommendation_product(top, df_all, scores):\n",
    "  recommendation = pd.DataFrame(columns = ['customer_id', 'article_id',  'product_code', 'detail_desc', 'score'])\n",
    "  count = 0\n",
    "  for i in top:\n",
    "      recommendation.at[count, 'customer_id'] = u\n",
    "      recommendation.at[count, 'article_id'] = df_all['article_id'][i]\n",
    "      recommendation.at[count, 'product_code'] = df_all['product_code'][i]\n",
    "      recommendation.at[count, 'detail_desc'] = articles['detail_desc'][i]   \n",
    "      recommendation.at[count, 'score'] =  scores[count]\n",
    "      count += 1\n",
    "  return recommendation"
   ]
  },
  {
   "cell_type": "markdown",
   "metadata": {},
   "source": [
    "## Calculating Cosine Similarity for the User"
   ]
  },
  {
   "cell_type": "code",
   "execution_count": 22,
   "metadata": {
    "execution": {
     "iopub.execute_input": "2022-07-31T11:11:06.563650Z",
     "iopub.status.busy": "2022-07-31T11:11:06.563057Z",
     "iopub.status.idle": "2022-07-31T11:11:06.575372Z",
     "shell.execute_reply": "2022-07-31T11:11:06.574285Z",
     "shell.execute_reply.started": "2022-07-31T11:11:06.563601Z"
    }
   },
   "outputs": [],
   "source": [
    "user_tfidf = tfidf_vectorizer.transform(cust_q['text'])\n",
    "cos_similarity_tfidf = map(lambda x: cosine_similarity(user_tfidf, x),tfidf_article)"
   ]
  },
  {
   "cell_type": "code",
   "execution_count": 48,
   "metadata": {
    "execution": {
     "iopub.execute_input": "2022-07-31T11:29:51.575049Z",
     "iopub.status.busy": "2022-07-31T11:29:51.574693Z",
     "iopub.status.idle": "2022-07-31T11:29:51.581130Z",
     "shell.execute_reply": "2022-07-31T11:29:51.579426Z",
     "shell.execute_reply.started": "2022-07-31T11:29:51.575013Z"
    }
   },
   "outputs": [],
   "source": [
    "output2 = list(cos_similarity_tfidf)"
   ]
  },
  {
   "cell_type": "markdown",
   "metadata": {},
   "source": [
    "## Recommendations with TFIDF"
   ]
  },
  {
   "cell_type": "code",
   "execution_count": 49,
   "metadata": {
    "execution": {
     "iopub.execute_input": "2022-07-31T11:29:57.169683Z",
     "iopub.status.busy": "2022-07-31T11:29:57.169369Z",
     "iopub.status.idle": "2022-07-31T11:29:57.176825Z",
     "shell.execute_reply": "2022-07-31T11:29:57.175630Z",
     "shell.execute_reply.started": "2022-07-31T11:29:57.169647Z"
    }
   },
   "outputs": [],
   "source": []
  },
  {
   "cell_type": "code",
   "execution_count": 24,
   "metadata": {
    "execution": {
     "iopub.execute_input": "2022-07-31T11:12:52.972026Z",
     "iopub.status.busy": "2022-07-31T11:12:52.970326Z",
     "iopub.status.idle": "2022-07-31T11:12:54.842501Z",
     "shell.execute_reply": "2022-07-31T11:12:54.841001Z",
     "shell.execute_reply.started": "2022-07-31T11:12:52.971974Z"
    }
   },
   "outputs": [],
   "source": [
    "top = sorted(range(len(output2)), key=lambda i: output2[i], reverse=True)[:10]\n",
    "tf_list_scores = [output2[i][0][0] for i in top]\n",
    "recommendation_product(top, df_all, tf_list_scores)"
   ]
  },
  {
   "cell_type": "code",
   "execution_count": 25,
   "metadata": {
    "execution": {
     "iopub.execute_input": "2022-07-31T11:12:54.849742Z",
     "iopub.status.busy": "2022-07-31T11:12:54.849165Z",
     "iopub.status.idle": "2022-07-31T11:12:54.885935Z",
     "shell.execute_reply": "2022-07-31T11:12:54.884818Z",
     "shell.execute_reply.started": "2022-07-31T11:12:54.849696Z"
    }
   },
   "outputs": [],
   "source": [
    "tf_idf_score=pd.DataFrame(recommendation_product(top, df_all, tf_list_scores), columns = ['article_id', 'score'])"
   ]
  },
  {
   "cell_type": "code",
   "execution_count": 26,
   "metadata": {
    "execution": {
     "iopub.execute_input": "2022-07-31T11:12:54.895609Z",
     "iopub.status.busy": "2022-07-31T11:12:54.892214Z",
     "iopub.status.idle": "2022-07-31T11:12:54.918106Z",
     "shell.execute_reply": "2022-07-31T11:12:54.916804Z",
     "shell.execute_reply.started": "2022-07-31T11:12:54.895562Z"
    }
   },
   "outputs": [],
   "source": [
    "tf_idf_score"
   ]
  },
  {
   "cell_type": "markdown",
   "metadata": {},
   "source": [
    "## Reccomendations with CountVectorizer"
   ]
  },
  {
   "cell_type": "code",
   "execution_count": 27,
   "metadata": {
    "execution": {
     "iopub.execute_input": "2022-07-31T11:12:54.927961Z",
     "iopub.status.busy": "2022-07-31T11:12:54.924670Z",
     "iopub.status.idle": "2022-07-31T11:12:59.656075Z",
     "shell.execute_reply": "2022-07-31T11:12:59.654806Z",
     "shell.execute_reply.started": "2022-07-31T11:12:54.927907Z"
    }
   },
   "outputs": [],
   "source": [
    "from sklearn.feature_extraction.text import CountVectorizer\n",
    "count_vectorizer = CountVectorizer()\n",
    "\n",
    "count_artid = count_vectorizer.fit_transform((df_all['text'])) #fitting and transforming the vector\n",
    "count_artid"
   ]
  },
  {
   "cell_type": "code",
   "execution_count": 28,
   "metadata": {
    "execution": {
     "iopub.execute_input": "2022-07-31T11:12:59.661951Z",
     "iopub.status.busy": "2022-07-31T11:12:59.661662Z",
     "iopub.status.idle": "2022-07-31T11:12:59.669942Z",
     "shell.execute_reply": "2022-07-31T11:12:59.668163Z",
     "shell.execute_reply.started": "2022-07-31T11:12:59.661917Z"
    }
   },
   "outputs": [],
   "source": [
    "from sklearn.metrics.pairwise import cosine_similarity\n",
    "user_count = count_vectorizer.transform(cust_q['text'])\n",
    "cos_similarity_countv = map(lambda x: cosine_similarity(user_count, x),count_artid)"
   ]
  },
  {
   "cell_type": "code",
   "execution_count": 29,
   "metadata": {
    "execution": {
     "iopub.execute_input": "2022-07-31T11:12:59.672895Z",
     "iopub.status.busy": "2022-07-31T11:12:59.672109Z",
     "iopub.status.idle": "2022-07-31T11:15:08.930554Z",
     "shell.execute_reply": "2022-07-31T11:15:08.929313Z",
     "shell.execute_reply.started": "2022-07-31T11:12:59.672843Z"
    }
   },
   "outputs": [],
   "source": [
    "output3 = list(cos_similarity_countv)"
   ]
  },
  {
   "cell_type": "code",
   "execution_count": 30,
   "metadata": {
    "execution": {
     "iopub.execute_input": "2022-07-31T11:15:08.932529Z",
     "iopub.status.busy": "2022-07-31T11:15:08.932200Z",
     "iopub.status.idle": "2022-07-31T11:15:10.211231Z",
     "shell.execute_reply": "2022-07-31T11:15:10.210200Z",
     "shell.execute_reply.started": "2022-07-31T11:15:08.932486Z"
    }
   },
   "outputs": [],
   "source": [
    "top = sorted(range(len(output3)), key=lambda i: output3[i], reverse=True)[:10]\n",
    "list_scores_cv = [output3[i][0][0] for i in top]\n",
    "recommendation_product(top, df_all, list_scores_cv)"
   ]
  },
  {
   "cell_type": "code",
   "execution_count": 38,
   "metadata": {
    "execution": {
     "iopub.execute_input": "2022-07-31T11:15:48.782062Z",
     "iopub.status.busy": "2022-07-31T11:15:48.781687Z",
     "iopub.status.idle": "2022-07-31T11:15:48.790285Z",
     "shell.execute_reply": "2022-07-31T11:15:48.789021Z",
     "shell.execute_reply.started": "2022-07-31T11:15:48.782006Z"
    }
   },
   "outputs": [],
   "source": [
    "top"
   ]
  },
  {
   "cell_type": "code",
   "execution_count": 31,
   "metadata": {
    "execution": {
     "iopub.execute_input": "2022-07-31T11:15:10.214117Z",
     "iopub.status.busy": "2022-07-31T11:15:10.213193Z",
     "iopub.status.idle": "2022-07-31T11:15:10.242084Z",
     "shell.execute_reply": "2022-07-31T11:15:10.240777Z",
     "shell.execute_reply.started": "2022-07-31T11:15:10.214068Z"
    }
   },
   "outputs": [],
   "source": [
    "cv_score=pd.DataFrame(recommendation_product(top, df_all, list_scores_cv), columns = ['article_id', 'score'])"
   ]
  },
  {
   "cell_type": "markdown",
   "metadata": {},
   "source": [
    "## Reccommendations with KNN"
   ]
  },
  {
   "cell_type": "code",
   "execution_count": 32,
   "metadata": {
    "execution": {
     "iopub.execute_input": "2022-07-31T11:15:10.247051Z",
     "iopub.status.busy": "2022-07-31T11:15:10.246547Z",
     "iopub.status.idle": "2022-07-31T11:15:10.431501Z",
     "shell.execute_reply": "2022-07-31T11:15:10.430273Z",
     "shell.execute_reply.started": "2022-07-31T11:15:10.247013Z"
    }
   },
   "outputs": [],
   "source": [
    "from sklearn.neighbors import NearestNeighbors\n",
    "KNN = NearestNeighbors(n_neighbors=11)\n",
    "KNN.fit(tfidf_article)\n",
    "NNs = KNN.kneighbors(user_tfidf, return_distance=True) "
   ]
  },
  {
   "cell_type": "code",
   "execution_count": 33,
   "metadata": {
    "execution": {
     "iopub.execute_input": "2022-07-31T11:15:10.433373Z",
     "iopub.status.busy": "2022-07-31T11:15:10.432993Z",
     "iopub.status.idle": "2022-07-31T11:15:10.467683Z",
     "shell.execute_reply": "2022-07-31T11:15:10.466483Z",
     "shell.execute_reply.started": "2022-07-31T11:15:10.433324Z"
    }
   },
   "outputs": [],
   "source": [
    "top = NNs[1][0][1:]\n",
    "index_score = NNs[0][0][1:]\n",
    "recommendation_product(top, df_all, index_score)"
   ]
  },
  {
   "cell_type": "code",
   "execution_count": 34,
   "metadata": {
    "execution": {
     "iopub.execute_input": "2022-07-31T11:15:10.470303Z",
     "iopub.status.busy": "2022-07-31T11:15:10.469646Z",
     "iopub.status.idle": "2022-07-31T11:15:10.493441Z",
     "shell.execute_reply": "2022-07-31T11:15:10.492256Z",
     "shell.execute_reply.started": "2022-07-31T11:15:10.470250Z"
    }
   },
   "outputs": [],
   "source": [
    "knn_score=pd.DataFrame(recommendation_product(top, df_all, index_score), columns = ['article_id', 'score'])"
   ]
  },
  {
   "cell_type": "markdown",
   "metadata": {},
   "source": [
    "# Comparison "
   ]
  },
  {
   "cell_type": "code",
   "execution_count": 35,
   "metadata": {
    "execution": {
     "iopub.execute_input": "2022-07-31T11:15:10.495565Z",
     "iopub.status.busy": "2022-07-31T11:15:10.494869Z",
     "iopub.status.idle": "2022-07-31T11:15:10.507175Z",
     "shell.execute_reply": "2022-07-31T11:15:10.506070Z",
     "shell.execute_reply.started": "2022-07-31T11:15:10.495514Z"
    }
   },
   "outputs": [],
   "source": [
    "tf_idf_score=tf_idf_score.rename(columns={\"score\":\"tf_idf_score\"})\n",
    "cv_score=cv_score.rename(columns={\"score\":\"cv_score\"})\n",
    "knn_score=knn_score.rename(columns={\"score\":\"knn_score\"})"
   ]
  },
  {
   "cell_type": "code",
   "execution_count": 36,
   "metadata": {
    "execution": {
     "iopub.execute_input": "2022-07-31T11:15:10.509926Z",
     "iopub.status.busy": "2022-07-31T11:15:10.508895Z",
     "iopub.status.idle": "2022-07-31T11:15:10.531605Z",
     "shell.execute_reply": "2022-07-31T11:15:10.530178Z",
     "shell.execute_reply.started": "2022-07-31T11:15:10.509870Z"
    }
   },
   "outputs": [],
   "source": [
    "pd.concat([tf_idf_score, cv_score, knn_score], axis=1)"
   ]
  },
  {
   "cell_type": "markdown",
   "metadata": {},
   "source": [
    "It seems that while knn and tf-idf make **almost** the same recommendations, the system based on countvectorizer makes different recommendations."
   ]
  }
 ],
 "metadata": {
  "kernelspec": {
   "display_name": "Python 3 (ipykernel)",
   "language": "python",
   "name": "python3"
  },
  "language_info": {
   "codemirror_mode": {
    "name": "ipython",
    "version": 3
   },
   "file_extension": ".py",
   "mimetype": "text/x-python",
   "name": "python",
   "nbconvert_exporter": "python",
   "pygments_lexer": "ipython3",
   "version": "3.9.12"
  }
 },
 "nbformat": 4,
 "nbformat_minor": 4
}
